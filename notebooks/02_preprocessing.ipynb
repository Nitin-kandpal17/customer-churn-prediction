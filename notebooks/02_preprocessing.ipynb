{
 "cells": [
  {
   "cell_type": "markdown",
   "id": "7c7cd37d",
   "metadata": {},
   "source": [
    "# Day 2 - Preprocessing and Data Balancing\n",
    "\n",
    "**Objective:** Encode categorical features, split the dataset, handle class imbalance using SMOTE, and save the final datasets.\n"
   ]
  },
  {
   "cell_type": "code",
   "execution_count": 1,
   "id": "43e93503",
   "metadata": {},
   "outputs": [],
   "source": [
    "import pandas as pd\n",
    "import numpy as np\n",
    "\n",
    "from sklearn.model_selection import train_test_split\n",
    "from sklearn.preprocessing import LabelEncoder\n",
    "from imblearn.over_sampling import SMOTE\n",
    "\n",
    "import matplotlib.pyplot as plt\n",
    "import seaborn as sns\n"
   ]
  },
  {
   "cell_type": "code",
   "execution_count": 2,
   "metadata": {},
   "outputs": [],
   "source": [
    "# Load the cleaned dataset from Day 1\n",
    "df = pd.read_csv(\"../data/WA_Fn-UseC_-Telco-Customer-Churn.csv\")\n",
    "\n",
    "# Reconvert TotalCharges and drop rows with nulls (as done in Day 1)\n",
    "df['TotalCharges'] = pd.to_numeric(df['TotalCharges'], errors='coerce')\n",
    "df.dropna(subset=['TotalCharges'], inplace=True)\n",
    "\n",
    "# Reset index (optional)\n",
    "df.reset_index(drop=True, inplace=True)\n",
    "\n",
    "# Drop customerID (not useful)\n",
    "df.drop('customerID', axis=1, inplace=True)\n"
   ]
  },
  {
   "cell_type": "markdown",
   "id": "8e734e83",
   "metadata": {},
   "source": [
    "## Encoding Categorical Columns\n",
    "\n",
    "We will use:\n",
    "- **Label Encoding** for binary categorical features.\n",
    "- **One-Hot Encoding** for multi-category features.\n"
   ]
  },
  {
   "cell_type": "code",
   "execution_count": 3,
   "metadata": {},
   "outputs": [],
   "source": [
    "# Label encode 'Yes/No' columns\n",
    "binary_cols = ['Partner', 'Dependents', 'PhoneService', 'PaperlessBilling', 'Churn']\n",
    "\n",
    "le = LabelEncoder()\n",
    "for col in binary_cols:\n",
    "    df[col] = le.fit_transform(df[col])\n"
   ]
  },
  {
   "cell_type": "code",
   "execution_count": 4,
   "id": "fb99f1fe",
   "metadata": {},
   "outputs": [],
   "source": [
    "# Identify categorical columns to one-hot encode\n",
    "multi_cat_cols = ['InternetService', 'Contract', 'PaymentMethod', 'MultipleLines', 'OnlineSecurity',\n",
    "                  'OnlineBackup', 'DeviceProtection', 'TechSupport', 'StreamingTV', 'StreamingMovies',\n",
    "                  'gender']\n",
    "\n",
    "df_encoded = pd.get_dummies(df, columns=multi_cat_cols, drop_first=True)\n"
   ]
  },
  {
   "cell_type": "markdown",
   "id": "653b9afc",
   "metadata": {},
   "source": [
    "## Train-Test Split\n",
    "\n",
    "Split the data into training and test sets (80-20), stratified on the target (churn).\n"
   ]
  },
  {
   "cell_type": "code",
   "execution_count": 5,
   "id": "d579a327",
   "metadata": {},
   "outputs": [
    {
     "name": "stdout",
     "output_type": "stream",
     "text": [
      "Before SMOTE:\n",
      "Training target class distribution:\n",
      " Churn\n",
      "0    0.734222\n",
      "1    0.265778\n",
      "Name: proportion, dtype: float64\n"
     ]
    }
   ],
   "source": [
    "# Split into features and target\n",
    "X = df_encoded.drop('Churn', axis=1)\n",
    "y = df_encoded['Churn']\n",
    "\n",
    "# Stratified split\n",
    "X_train, X_test, y_train, y_test = train_test_split(X, y, test_size=0.2, stratify=y, random_state=42)\n",
    "\n",
    "print(\"Before SMOTE:\")\n",
    "print(\"Training target class distribution:\\n\", y_train.value_counts(normalize=True))\n"
   ]
  },
  {
   "cell_type": "markdown",
   "id": "b70cbe54",
   "metadata": {},
   "source": [
    "## Balancing Classes with SMOTE\n",
    "\n",
    "We’ll apply SMOTE on the training data to balance the churned vs non-churned classes.\n"
   ]
  },
  {
   "cell_type": "code",
   "execution_count": 6,
   "id": "ef4202bd",
   "metadata": {},
   "outputs": [
    {
     "name": "stdout",
     "output_type": "stream",
     "text": [
      "After SMOTE:\n",
      "Balanced training target class distribution:\n",
      " Churn\n",
      "0    0.5\n",
      "1    0.5\n",
      "Name: proportion, dtype: float64\n"
     ]
    }
   ],
   "source": [
    "# Apply SMOTE\n",
    "sm = SMOTE(random_state=42)\n",
    "X_train_sm, y_train_sm = sm.fit_resample(X_train, y_train)\n",
    "\n",
    "print(\"After SMOTE:\")\n",
    "print(\"Balanced training target class distribution:\\n\", y_train_sm.value_counts(normalize=True))\n"
   ]
  },
  {
   "cell_type": "code",
   "execution_count": 7,
   "id": "52d41e48",
   "metadata": {},
   "outputs": [],
   "source": [
    "# Save processed datasets\n",
    "X_train_sm.to_csv(\"../data/X_train_sm.csv\", index=False)\n",
    "y_train_sm.to_csv(\"../data/y_train_sm.csv\", index=False)\n",
    "X_test.to_csv(\"../data/X_test.csv\", index=False)\n",
    "y_test.to_csv(\"../data/y_test.csv\", index=False)\n"
   ]
  },
  {
   "cell_type": "markdown",
   "id": "54ccfad5",
   "metadata": {},
   "source": [
    "## ✅ Summary\n",
    "\n",
    "- Encoded all categorical variables\n",
    "- Performed stratified train-test split\n",
    "- Applied SMOTE to balance the training set\n",
    "- Saved datasets for model training (Day 3)\n"
   ]
  },
  {
   "cell_type": "code",
   "execution_count": null,
   "id": "688d5e0e",
   "metadata": {},
   "outputs": [],
   "source": []
  }
 ],
 "metadata": {
  "kernelspec": {
   "display_name": "churn_env",
   "language": "python",
   "name": "python3"
  },
  "language_info": {
   "codemirror_mode": {
    "name": "ipython",
    "version": 3
   },
   "file_extension": ".py",
   "mimetype": "text/x-python",
   "name": "python",
   "nbconvert_exporter": "python",
   "pygments_lexer": "ipython3",
   "version": "3.11.13"
  }
 },
 "nbformat": 4,
 "nbformat_minor": 5
}
